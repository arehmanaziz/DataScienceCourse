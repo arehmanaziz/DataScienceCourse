{
  "cells": [
    {
      "cell_type": "markdown",
      "metadata": {},
      "source": [
        "# 1. Rock, Paper, Scissor Game"
      ]
    },
    {
      "cell_type": "code",
      "execution_count": 1,
      "metadata": {
        "id": "bA2ICciNgSYb"
      },
      "outputs": [],
      "source": [
        "game_names = [\"rock\", \"paper\", \"scissors\"]"
      ]
    },
    {
      "cell_type": "code",
      "execution_count": 2,
      "metadata": {
        "colab": {
          "base_uri": "https://localhost:8080/"
        },
        "id": "UW1pJoaCgoUi",
        "outputId": "d232f0f2-ff87-452e-8b72-2ba04b03d5a1"
      },
      "outputs": [
        {
          "name": "stdout",
          "output_type": "stream",
          "text": [
            "['rock', 'paper', 'scissors']\n"
          ]
        }
      ],
      "source": [
        "print(game_names)"
      ]
    },
    {
      "cell_type": "code",
      "execution_count": 3,
      "metadata": {
        "colab": {
          "base_uri": "https://localhost:8080/"
        },
        "id": "utRf_snEgrGT",
        "outputId": "a4b2a9c2-f124-4f6a-fbba-6c626b7d096b"
      },
      "outputs": [
        {
          "name": "stdout",
          "output_type": "stream",
          "text": [
            "What do you choose? Type 0 for Rock, 1 for Paper, 2 for Scissors: 1\n"
          ]
        }
      ],
      "source": [
        "user_choice = int(input(\"What do you choose? Type 0 for Rock, 1 for Paper, 2 for Scissors: \"))"
      ]
    },
    {
      "cell_type": "code",
      "execution_count": 4,
      "metadata": {
        "colab": {
          "base_uri": "https://localhost:8080/"
        },
        "id": "ZTQ7nNhMg3LI",
        "outputId": "12b290db-8854-4724-b413-cf6d95282860"
      },
      "outputs": [
        {
          "name": "stdout",
          "output_type": "stream",
          "text": [
            "paper\n"
          ]
        }
      ],
      "source": [
        "print(game_names[user_choice])"
      ]
    },
    {
      "cell_type": "code",
      "execution_count": 6,
      "metadata": {
        "colab": {
          "base_uri": "https://localhost:8080/"
        },
        "id": "1Q6eKiW7hCKa",
        "outputId": "5ad7ae2e-5cab-4fc9-ca86-c377765d2b63"
      },
      "outputs": [
        {
          "name": "stdout",
          "output_type": "stream",
          "text": [
            "paper\n"
          ]
        }
      ],
      "source": [
        "import random\n",
        "computer_choice = random.randint(0, 2)\n",
        "print(game_names[computer_choice])"
      ]
    },
    {
      "cell_type": "code",
      "execution_count": 7,
      "metadata": {
        "colab": {
          "base_uri": "https://localhost:8080/"
        },
        "id": "AAEfCYNfhSUj",
        "outputId": "002f1645-2503-49b9-a718-5d1153de2a74"
      },
      "outputs": [
        {
          "name": "stdout",
          "output_type": "stream",
          "text": [
            "It's a draw !\n"
          ]
        }
      ],
      "source": [
        "if user_choice == 0 and computer_choice == 2:\n",
        "  print(\"You Win!\")\n",
        "\n",
        "elif user_choice == 2 and computer_choice == 0:\n",
        "  print(\"You Lose!\")\n",
        "\n",
        "elif user_choice < computer_choice:\n",
        "  print(\"You Lose!\")\n",
        "\n",
        "elif user_choice > computer_choice:\n",
        "  print(\"You Win!\")\n",
        "\n",
        "elif user_choice == computer_choice:\n",
        "  print(\"It's a draw !\")\n",
        "\n",
        "\n"
      ]
    },
    {
      "cell_type": "markdown",
      "metadata": {
        "id": "kiVb9PB4iLD8"
      },
      "source": [
        "# 2. Password Generator"
      ]
    },
    {
      "cell_type": "code",
      "execution_count": 8,
      "metadata": {
        "id": "CTaRYL3WiQiL"
      },
      "outputs": [],
      "source": [
        "letters = ['a', 'b', 'c', 'd', 'e', 'f', 'g', 'h', 'i', 'j', 'k', 'l', 'm', 'n', 'o', 'p', 'q', 'r', 's', 't', 'u', 'v', 'w', 'x', 'y', 'z', 'A', 'B', 'C', 'D', 'E', 'F', 'G', 'H', 'I', 'J', 'K', 'L', 'M', 'N', 'O', 'P', 'Q', 'R', 'S', 'T', 'U', 'V', 'W', 'X', 'Y', 'Z']"
      ]
    },
    {
      "cell_type": "code",
      "execution_count": 9,
      "metadata": {
        "id": "wD6b67AJicXe"
      },
      "outputs": [],
      "source": [
        "numbers = ['0', '1', '2', '3', '4', '5', '6', '7', '8', '9']"
      ]
    },
    {
      "cell_type": "code",
      "execution_count": 10,
      "metadata": {
        "id": "5ZFt5RS7ikpi"
      },
      "outputs": [],
      "source": [
        "symbols = ['!', '#', '$', '%', '&', '(', ')', '*', '+']"
      ]
    },
    {
      "cell_type": "code",
      "execution_count": 11,
      "metadata": {
        "colab": {
          "base_uri": "https://localhost:8080/"
        },
        "id": "-q645MbJixZl",
        "outputId": "6a1cbb2e-34ba-4044-9770-efc25ab8afac"
      },
      "outputs": [
        {
          "name": "stdout",
          "output_type": "stream",
          "text": [
            "Welcome to the PyPassword Generator!\n",
            "How many letters would you like in your password?\n",
            "5\n",
            "How many symbols would you like?\n",
            "5\n",
            "How many numbers would you like?\n",
            "4\n"
          ]
        }
      ],
      "source": [
        "print(\"Welcome to the PyPassword Generator!\")\n",
        "nr_letters= int(input(\"How many letters would you like in your password?\\n\"))\n",
        "nr_symbols = int(input(f\"How many symbols would you like?\\n\"))\n",
        "nr_numbers = int(input(f\"How many numbers would you like?\\n\"))"
      ]
    },
    {
      "cell_type": "markdown",
      "metadata": {
        "id": "IwjTUCZijJKr"
      },
      "source": [
        "Easy Solution\n"
      ]
    },
    {
      "cell_type": "code",
      "execution_count": 16,
      "metadata": {
        "colab": {
          "base_uri": "https://localhost:8080/"
        },
        "id": "UIr0lPGCjMP0",
        "outputId": "b90001e5-7b66-4de4-a87c-bdf66574b956"
      },
      "outputs": [
        {
          "name": "stdout",
          "output_type": "stream",
          "text": [
            "wGixj#)%#+3660\n"
          ]
        }
      ],
      "source": [
        "import random\n",
        "password = \"\"\n",
        "for char in range(1, nr_letters+1):\n",
        "  c = random.choice(letters)\n",
        "  password += c\n",
        "\n",
        "for char in range(1, nr_symbols+1):\n",
        "  c = random.choice(symbols)\n",
        "  password += c\n",
        "\n",
        "for char in range(1, nr_numbers+1):\n",
        "  c = random.choice(numbers)\n",
        "  password += c\n",
        "\n",
        "print(password)"
      ]
    },
    {
      "cell_type": "markdown",
      "metadata": {
        "id": "-PUyzNjGlpuL"
      },
      "source": [
        "Hard Solution"
      ]
    },
    {
      "cell_type": "code",
      "execution_count": 25,
      "metadata": {
        "colab": {
          "base_uri": "https://localhost:8080/"
        },
        "id": "Whc3-seil2YV",
        "outputId": "05bf9482-5034-4d10-d40a-62d63f802ed6"
      },
      "outputs": [
        {
          "name": "stdout",
          "output_type": "stream",
          "text": [
            "*(iw15*16+R#cc\n"
          ]
        }
      ],
      "source": [
        "import random\n",
        "\n",
        "password = []\n",
        "for char in range(1, nr_letters+1):\n",
        "  c = random.choice(letters)\n",
        "  password.append(c)\n",
        "\n",
        "for char in range(1, nr_symbols+1):\n",
        "  c = random.choice(symbols)\n",
        "  password.append(c)\n",
        "\n",
        "for char in range(1, nr_numbers+1):\n",
        "  c = random.choice(numbers)\n",
        "  password.append(c)\n",
        "\n",
        "random.shuffle(password)\n",
        "new_password = \"\"\n",
        "for p in password:\n",
        "  new_password += p\n",
        "\n",
        "print(new_password)"
      ]
    },
    {
      "cell_type": "markdown",
      "metadata": {
        "id": "vZkCCtdBnSlG"
      },
      "source": [
        "# 3. Student Grade Program"
      ]
    },
    {
      "cell_type": "code",
      "execution_count": 27,
      "metadata": {
        "colab": {
          "base_uri": "https://localhost:8080/"
        },
        "id": "5UupeqxunVak",
        "outputId": "e0236258-9d71-4c3f-a5ff-8d14c712800d"
      },
      "outputs": [
        {
          "name": "stdout",
          "output_type": "stream",
          "text": [
            "{'Harry': 'Exceeds Expectations', 'Ron': 'Acceptable', 'Hermione': 'Outstanding', 'Draco': 'Acceptable', 'Neville': 'Fail'}\n"
          ]
        }
      ],
      "source": [
        "def student_grades():\n",
        "\n",
        "  student_scores = {\n",
        "      \"Harry\": 81,\n",
        "      \"Ron\": 78,\n",
        "      \"Hermione\": 99,\n",
        "      \"Draco\": 74,\n",
        "      \"Neville\": 62\n",
        "  }\n",
        "\n",
        "  student_grades = {}\n",
        "  for student in student_scores:\n",
        "    score = student_scores[student]\n",
        "\n",
        "    if score > 90:\n",
        "      student_grades[student] = \"Outstanding\"\n",
        "    elif score > 80:\n",
        "      student_grades[student] = \"Exceeds Expectations\"\n",
        "    elif score > 70:\n",
        "      student_grades[student] = \"Acceptable\"\n",
        "    else:\n",
        "      student_grades[student] = \"Fail\"\n",
        "\n",
        "  print(student_grades)\n",
        "\n",
        "\n",
        "student_grades()"
      ]
    },
    {
      "cell_type": "markdown",
      "metadata": {
        "id": "p_nErb7xqc9B"
      },
      "source": [
        "# 4. How to read CSV File"
      ]
    },
    {
      "cell_type": "code",
      "execution_count": 31,
      "metadata": {
        "colab": {
          "base_uri": "https://localhost:8080/"
        },
        "id": "47v1sfi2q1_H",
        "outputId": "2a165f59-8dea-4738-baa9-7f8a78c35081"
      },
      "outputs": [
        {
          "name": "stdout",
          "output_type": "stream",
          "text": [
            "day temp condition\n",
            "Monday 12 Sunny\n",
            "Tuesday 14 Rain\n",
            "Wednesday 15 Rain\n",
            "Thursday 14 Cloudy\n",
            "Friday 21 Sunny\n",
            "Saturday 22 Sunny\n",
            "Sunday 24 Sunny\n"
          ]
        }
      ],
      "source": [
        "import csv\n",
        "\n",
        "with open(\"weather_data.csv\") as data_file:\n",
        "\n",
        "  data = csv.reader(data_file)\n",
        "  for day, temp, condition in data:\n",
        "    print(day, temp, condition)"
      ]
    }
  ],
  "metadata": {
    "colab": {
      "provenance": []
    },
    "kernelspec": {
      "display_name": "Python 3",
      "name": "python3"
    },
    "language_info": {
      "name": "python"
    }
  },
  "nbformat": 4,
  "nbformat_minor": 0
}
